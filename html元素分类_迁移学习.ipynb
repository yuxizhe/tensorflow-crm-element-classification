{
  "cells": [
    {
      "cell_type": "code",
      "execution_count": 1,
      "metadata": {
        "colab": {
          "base_uri": "https://localhost:8080/",
          "height": 51
        },
        "colab_type": "code",
        "id": "6AtlYH9erHa8",
        "outputId": "29ce3d92-a8cf-4cc3-ea7b-a4c280869070"
      },
      "outputs": [
        {
          "name": "stdout",
          "output_type": "stream",
          "text": [
            "2.8.0\n",
            "2.8.0\n"
          ]
        }
      ],
      "source": [
        "import tensorflow as tf\n",
        "import tensorflow_hub as hub\n",
        "\n",
        "from tensorflow import keras\n",
        "from keras.preprocessing.image import ImageDataGenerator\n",
        "from tensorflow.keras import models\n",
        "from tensorflow.keras import layers\n",
        "\n",
        "# Helper libraries\n",
        "import numpy as np\n",
        "import matplotlib.pyplot as plt\n",
        "\n",
        "print(tf.__version__)\n",
        "print(keras.__version__)"
      ]
    },
    {
      "cell_type": "code",
      "execution_count": 2,
      "metadata": {
        "colab": {},
        "colab_type": "code",
        "id": "dkvTOsfdE9dO"
      },
      "outputs": [],
      "source": [
        "# create a data generator\n",
        "datagen = ImageDataGenerator(rescale=(1/255))"
      ]
    },
    {
      "cell_type": "code",
      "execution_count": 3,
      "metadata": {},
      "outputs": [],
      "source": [
        "# 图像归为 224 224\n",
        "import os\n",
        "import cv2\n",
        "import glob\n",
        "import numpy as np\n",
        "\n",
        "min_side = 224\n",
        "\n",
        "def mkdir(path):\n",
        "    if not os.path.exists(path):\n",
        "        os.mkdir(path)\n",
        "def process_image(img):\n",
        "    size = img.shape\n",
        "    h, w = size[0], size[1]\n",
        "    #长边缩放为min_side \n",
        "    scale = max(w, h) / float(min_side)\n",
        "    new_w, new_h = int(w/scale), int(h/scale)\n",
        "    resize_img = cv2.resize(img, (new_w, new_h))\n",
        "    # 填充至min_side * min_side\n",
        "    if new_w % 2 != 0 and new_h % 2 == 0:\n",
        "        top, bottom, left, right = (min_side-new_h)/2, (min_side-new_h)/2, (min_side-new_w)/2 + 1, (min_side-new_w)/2\n",
        "    elif new_h % 2 != 0 and new_w % 2 == 0:\n",
        "        top, bottom, left, right = (min_side-new_h)/2 + 1, (min_side-new_h)/2, (min_side-new_w)/2, (min_side-new_w)/2\n",
        "    elif new_h % 2 == 0 and new_w % 2 == 0:\n",
        "        top, bottom, left, right = (min_side-new_h)/2, (min_side-new_h)/2, (min_side-new_w)/2, (min_side-new_w)/2\n",
        "    else:\n",
        "        top, bottom, left, right = (min_side-new_h)/2 + 1, (min_side-new_h)/2, (min_side-new_w)/2 + 1, (min_side-new_w)/2\n",
        "    pad_img = cv2.copyMakeBorder(resize_img, int(top), int(bottom), int(left), int(right), cv2.BORDER_CONSTANT, value=[255,255,255]) #从图像边界向上,下,左,右扩的像素数目\n",
        "    #print pad_img.shape\n",
        "    #cv2.imwrite(\"after-\" + os.path.basename(filename), pad_img)\n",
        "    return pad_img\n",
        "\n",
        "def resize(data_dir):\n",
        "    save_dir = data_dir + \"_pad_\" + str(min_side)\n",
        "    mkdir(save_dir)\n",
        "    num = 0\n",
        "    for label in os.listdir(data_dir):\n",
        "        num += 1\n",
        "        print(\"%d/%d, label:%s\" %(num, len(os.listdir(data_dir)), label))\n",
        "        mkdir(os.path.join(save_dir, label))\n",
        "        for img in glob.glob(os.path.join(data_dir, label, \"*.png\")):\n",
        "            #print img\n",
        "            image = cv2.imread(img)\n",
        "            if type(image) == type(None):\n",
        "                print(\"damaged image %s, del it\" %(img))\n",
        "                os.remove(img)\n",
        "                continue\n",
        "            img_pad = process_image(image)\n",
        "            cv2.imwrite(os.path.join(save_dir, label, os.path.basename(img)), img_pad)"
      ]
    },
    {
      "cell_type": "code",
      "execution_count": 4,
      "metadata": {
        "colab": {},
        "colab_type": "code",
        "id": "cvPzzQ4o6Dtd"
      },
      "outputs": [
        {
          "name": "stdout",
          "output_type": "stream",
          "text": [
            "1/4, label:.DS_Store\n",
            "2/4, label:input\n",
            "3/4, label:button\n",
            "4/4, label:select\n",
            "1/4, label:.DS_Store\n",
            "2/4, label:input\n",
            "3/4, label:button\n",
            "4/4, label:select\n"
          ]
        }
      ],
      "source": [
        "!rm -rf ./content/valid_pad_224/\n",
        "!rm -rf ./content/components_pad_224/\n",
        "resize('./content/components')\n",
        "resize('./content/valid')"
      ]
    },
    {
      "cell_type": "code",
      "execution_count": 5,
      "metadata": {
        "colab": {
          "base_uri": "https://localhost:8080/",
          "height": 34
        },
        "colab_type": "code",
        "id": "rk22wsgYl7KX",
        "outputId": "52c062fb-174a-4529-cf40-70849aa44e0f"
      },
      "outputs": [
        {
          "data": {
            "text/plain": [
              "array(['input', 'button', 'select'], dtype='<U6')"
            ]
          },
          "execution_count": 5,
          "metadata": {},
          "output_type": "execute_result"
        }
      ],
      "source": [
        "import pathlib\n",
        "import re\n",
        "\n",
        "# 文件目录处理\n",
        "data_dir = pathlib.Path('./content/components_pad_224')\n",
        "# 获取名称\n",
        "CLASS_NAMES = np.array([item.name for item in data_dir.glob('*') if re.search('\\.', item.name) == None])\n",
        "CLASS_NAMES\n",
        "# CLASS_NAMES = ['select', 'button', 'input']"
      ]
    },
    {
      "cell_type": "code",
      "execution_count": 6,
      "metadata": {
        "colab": {
          "base_uri": "https://localhost:8080/",
          "height": 34
        },
        "colab_type": "code",
        "id": "khDEY-5-rPEO",
        "outputId": "c87edefb-a5c3-4216-e232-6576c9d231c3"
      },
      "outputs": [
        {
          "name": "stdout",
          "output_type": "stream",
          "text": [
            "Found 93 images belonging to 3 classes.\n"
          ]
        },
        {
          "data": {
            "text/plain": [
              "<keras.preprocessing.image.DirectoryIterator at 0x169a5a400>"
            ]
          },
          "execution_count": 6,
          "metadata": {},
          "output_type": "execute_result"
        }
      ],
      "source": [
        "# load and iterate training dataset\n",
        "# directory: 目标目录的路径。每个类应该包含一个子目录。任何在子目录树下的 PNG, JPG, BMP, PPM 或 TIF 图像，都将被包含在生成器中。更多细节，详见 此脚本。\n",
        "# target_size: 整数元组 (height, width)，默认：(256, 256)。所有的图像将被调整到的尺寸。\n",
        "# color_mode: \"grayscale\", \"rbg\" 之一。默认：\"rgb\"。图像是否被转换成 1 或 3 个颜色通道。\n",
        "# classes: 可选的类的子目录列表（例如 ['dogs', 'cats']）。默认：None。如果未提供，类的列表将自动从 directory 下的 子目录名称/结构 中推断出来，其中每个子目录都将被作为不同的类（类名将按字典序映射到标签的索引）。包含从类名到类索引的映射的字典可以通过 class_indices 属性获得。\n",
        "# class_mode: \"categorical\", \"binary\", \"sparse\", \"input\" 或 None 之一。默认：\"categorical\"。决定返回的标签数组的类型：\n",
        "# \"categorical\" 将是 2D one-hot 编码标签，\n",
        "# \"binary\" 将是 1D 二进制标签，\"sparse\" 将是 1D 整数标签，\n",
        "train_data = datagen.flow_from_directory('./content/components_pad_224',\n",
        "                                         target_size=(224,224),\n",
        "                                        #  color_mode=\"grayscale\",\n",
        "                                        #  class_mode='binary',\n",
        "                                        #  batch_size=64,\n",
        "                                         classes=list(CLASS_NAMES))\n",
        "train_data"
      ]
    },
    {
      "cell_type": "code",
      "execution_count": 7,
      "metadata": {
        "colab": {
          "base_uri": "https://localhost:8080/",
          "height": 34
        },
        "colab_type": "code",
        "id": "YFpK_yRzFGof",
        "outputId": "e86319e0-4b29-4744-d141-160f7123a401"
      },
      "outputs": [
        {
          "name": "stdout",
          "output_type": "stream",
          "text": [
            "Found 13 images belonging to 3 classes.\n"
          ]
        }
      ],
      "source": [
        "valid_data = datagen.flow_from_directory('./content/valid_pad_224',\n",
        "                                         target_size=(224,224),\n",
        "                                        #  color_mode=\"grayscale\",\n",
        "                                        #  class_mode='binary',\n",
        "                                        #  batch_size=64,\n",
        "                                         classes=list(CLASS_NAMES))"
      ]
    },
    {
      "cell_type": "code",
      "execution_count": 8,
      "metadata": {
        "colab": {},
        "colab_type": "code",
        "id": "GrT2q7GH3-jX"
      },
      "outputs": [],
      "source": [
        "def show_batch(image_batch, label_batch):\n",
        "  plt.figure(figsize=(50,50))\n",
        "  for n in range(5):\n",
        "      ax = plt.subplot(5,5,n+1)\n",
        "      plt.imshow(image_batch[n].squeeze())\n",
        "      # plt.title(CLASS_NAMES[int(label_batch[n])])\n",
        "      plt.axis('off')"
      ]
    },
    {
      "cell_type": "code",
      "execution_count": 9,
      "metadata": {
        "colab": {
          "base_uri": "https://localhost:8080/",
          "height": 142
        },
        "colab_type": "code",
        "id": "aVrd9_fz4AJT",
        "outputId": "dc418cb3-e8bf-4d55-93da-fe0f4108f70f"
      },
      "outputs": [
        {
          "data": {
            "text/plain": [
              "(32, 3)"
            ]
          },
          "execution_count": 9,
          "metadata": {},
          "output_type": "execute_result"
        },
        {
          "data": {
            "image/png": "[encoded data removed]",
            "text/plain": [
              "<Figure size 3600x3600 with 5 Axes>"
            ]
          },
          "metadata": {
            "needs_background": "light"
          },
          "output_type": "display_data"
        }
      ],
      "source": [
        "image_batch, label_batch = next(train_data)\n",
        "show_batch(image_batch, label_batch)\n",
        "label_batch.shape"
      ]
    },
    {
      "cell_type": "code",
      "execution_count": 10,
      "metadata": {
        "colab": {},
        "colab_type": "code",
        "id": "-Vzf8AQ-zm2E"
      },
      "outputs": [],
      "source": [
        "# confirm the iterator works\n",
        "#batchX, batchy = train_data.next()\n",
        "#x,y = valid_data.next()"
      ]
    },
    {
      "cell_type": "code",
      "execution_count": 11,
      "metadata": {
        "colab": {},
        "colab_type": "code",
        "id": "xI8tXv7J5a2W"
      },
      "outputs": [],
      "source": [
        "# 方法一：全连接的训练\n",
        "# model = keras.Sequential([\n",
        "#     keras.layers.Flatten(input_shape=(224, 224)),\n",
        "#     keras.layers.Dense(1000, activation='relu'),\n",
        "#     keras.layers.Dense(100, activation='relu'),\n",
        "#     keras.layers.Dense(6)\n",
        "# ])\n",
        "# model.summary()\n",
        "\n",
        "# # 方法二：自建CNN训练\n",
        "# model = models.Sequential()\n",
        "# model.add(layers.Conv2D(32, (3, 3), activation='relu', input_shape=(100, 100, 1)))\n",
        "# model.add(layers.MaxPooling2D((2, 2)))\n",
        "# model.add(layers.Conv2D(64, (3, 3), activation='relu')) \n",
        "# model.add(layers.MaxPooling2D((2, 2)))\n",
        "# model.add(layers.Conv2D(64, (3, 3), activation='relu'))\n",
        "\n",
        "# model.add(layers.Flatten())\n",
        "# model.add(layers.Dense(500, activation='relu'))\n",
        "# model.add(layers.Dense(3, activation='softmax'))\n",
        "# model.summary()\n",
        "\n",
        "# model.compile(optimizer='adam',\n",
        "#               loss=tf.keras.losses.BinaryCrossentropy(from_logits=True),\n",
        "#               metrics=['accuracy'])\n",
        "# # fit model\n",
        "# model.fit(train_data, epochs=10, steps_per_epoch=20, validation_data=valid_data, validation_steps=8)"
      ]
    },
    {
      "cell_type": "code",
      "execution_count": 12,
      "metadata": {
        "colab": {},
        "colab_type": "code",
        "id": "RisF-sg3AGPB"
      },
      "outputs": [
        {
          "name": "stdout",
          "output_type": "stream",
          "text": [
            "Metal device set to: Apple M1 Pro\n",
            "\n",
            "systemMemory: 16.00 GB\n",
            "maxCacheSize: 5.33 GB\n",
            "\n"
          ]
        },
        {
          "name": "stderr",
          "output_type": "stream",
          "text": [
            "2022-04-04 01:08:33.820121: I tensorflow/core/common_runtime/pluggable_device/pluggable_device_factory.cc:305] Could not identify NUMA node of platform GPU ID 0, defaulting to 0. Your kernel may not have been built with NUMA support.\n",
            "2022-04-04 01:08:33.820220: I tensorflow/core/common_runtime/pluggable_device/pluggable_device_factory.cc:271] Created TensorFlow device (/job:localhost/replica:0/task:0/device:GPU:0 with 0 MB memory) -> physical PluggableDevice (device: 0, name: METAL, pci bus id: <undefined>)\n"
          ]
        }
      ],
      "source": [
        "# 方法三：迁移学习\n",
        "\n",
        "feature_extractor_url = \"https://tfhub.dev/google/tf2-preview/mobilenet_v2/feature_vector/2\" \n",
        "\n",
        "IMAGE_SHAPE = (224, 224)\n",
        "\n",
        "feature_extractor_layer = hub.KerasLayer(feature_extractor_url, input_shape=(224, 224, 3))\n",
        "\n"
      ]
    },
    {
      "cell_type": "code",
      "execution_count": 13,
      "metadata": {
        "colab": {
          "base_uri": "https://localhost:8080/",
          "height": 34
        },
        "colab_type": "code",
        "id": "Jw__m0OND6eg",
        "outputId": "7a75f852-65e8-4be8-f104-9e3e016f30e6"
      },
      "outputs": [
        {
          "name": "stderr",
          "output_type": "stream",
          "text": [
            "2022-04-04 01:08:34.206521: W tensorflow/core/platform/profile_utils/cpu_utils.cc:128] Failed to get CPU frequency: 0 Hz\n",
            "2022-04-04 01:08:34.207564: I tensorflow/core/grappler/optimizers/custom_graph_optimizer_registry.cc:113] Plugin optimizer for device_type GPU is enabled.\n"
          ]
        },
        {
          "name": "stdout",
          "output_type": "stream",
          "text": [
            "(32, 1280)\n"
          ]
        }
      ],
      "source": [
        "feature_batch = feature_extractor_layer(image_batch)\n",
        "print(feature_batch.shape)"
      ]
    },
    {
      "cell_type": "code",
      "execution_count": 14,
      "metadata": {
        "colab": {},
        "colab_type": "code",
        "id": "H6t4G5OJEpnt"
      },
      "outputs": [],
      "source": [
        "feature_extractor_layer.trainable = False"
      ]
    },
    {
      "cell_type": "code",
      "execution_count": 15,
      "metadata": {
        "colab": {
          "base_uri": "https://localhost:8080/",
          "height": 221
        },
        "colab_type": "code",
        "id": "JVJTGLZCBs_k",
        "outputId": "91ecac3c-d11f-4472-97a3-21167fa55bc7"
      },
      "outputs": [
        {
          "name": "stdout",
          "output_type": "stream",
          "text": [
            "Model: \"sequential\"\n",
            "_________________________________________________________________\n",
            " Layer (type)                Output Shape              Param #   \n",
            "=================================================================\n",
            " keras_layer (KerasLayer)    (None, 1280)              2257984   \n",
            "                                                                 \n",
            " dense (Dense)               (None, 3)                 3843      \n",
            "                                                                 \n",
            "=================================================================\n",
            "Total params: 2,261,827\n",
            "Trainable params: 3,843\n",
            "Non-trainable params: 2,257,984\n",
            "_________________________________________________________________\n"
          ]
        }
      ],
      "source": [
        "model = tf.keras.Sequential([\n",
        "  feature_extractor_layer,\n",
        "  layers.Dense(3)\n",
        "])\n",
        "\n",
        "model.summary()"
      ]
    },
    {
      "cell_type": "code",
      "execution_count": 16,
      "metadata": {
        "colab": {},
        "colab_type": "code",
        "id": "yyO0mciaOZGC"
      },
      "outputs": [],
      "source": [
        "predictions = model(image_batch)"
      ]
    },
    {
      "cell_type": "code",
      "execution_count": 17,
      "metadata": {
        "colab": {
          "base_uri": "https://localhost:8080/",
          "height": 34
        },
        "colab_type": "code",
        "id": "VhKUqyP-OhvQ",
        "outputId": "9c55e143-6012-4e8b-94ba-271fa28abe53"
      },
      "outputs": [
        {
          "data": {
            "text/plain": [
              "TensorShape([32, 3])"
            ]
          },
          "execution_count": 17,
          "metadata": {},
          "output_type": "execute_result"
        }
      ],
      "source": [
        "predictions.shape"
      ]
    },
    {
      "cell_type": "code",
      "execution_count": 18,
      "metadata": {
        "colab": {},
        "colab_type": "code",
        "id": "-tgaR3zZOpbl"
      },
      "outputs": [],
      "source": [
        "model.compile(\n",
        "  optimizer=tf.keras.optimizers.Adam(),\n",
        "  loss=tf.keras.losses.CategoricalCrossentropy(from_logits=True),\n",
        "  metrics=['acc'])"
      ]
    },
    {
      "cell_type": "code",
      "execution_count": 19,
      "metadata": {
        "colab": {
          "base_uri": "https://localhost:8080/",
          "height": 394
        },
        "colab_type": "code",
        "id": "zkehfDUBO3SC",
        "outputId": "9353413e-d110-4bda-ae44-99b7998ebbc6"
      },
      "outputs": [
        {
          "name": "stdout",
          "output_type": "stream",
          "text": [
            "Epoch 1/40\n"
          ]
        },
        {
          "name": "stderr",
          "output_type": "stream",
          "text": [
            "2022-04-04 01:08:37.930227: I tensorflow/core/grappler/optimizers/custom_graph_optimizer_registry.cc:113] Plugin optimizer for device_type GPU is enabled.\n"
          ]
        },
        {
          "name": "stdout",
          "output_type": "stream",
          "text": [
            "3/3 [==============================] - ETA: 0s - loss: 1.2099 - acc: 0.3226"
          ]
        },
        {
          "name": "stderr",
          "output_type": "stream",
          "text": [
            "2022-04-04 01:08:39.469598: I tensorflow/core/grappler/optimizers/custom_graph_optimizer_registry.cc:113] Plugin optimizer for device_type GPU is enabled.\n"
          ]
        },
        {
          "name": "stdout",
          "output_type": "stream",
          "text": [
            "WARNING:tensorflow:Your input ran out of data; interrupting training. Make sure that your dataset or generator can generate at least `steps_per_epoch * epochs` batches (in this case, 2 batches). You may need to use the repeat() function when building your dataset.\n"
          ]
        },
        {
          "name": "stderr",
          "output_type": "stream",
          "text": [
            "WARNING:tensorflow:Your input ran out of data; interrupting training. Make sure that your dataset or generator can generate at least `steps_per_epoch * epochs` batches (in this case, 2 batches). You may need to use the repeat() function when building your dataset.\n"
          ]
        },
        {
          "name": "stdout",
          "output_type": "stream",
          "text": [
            "3/3 [==============================] - 3s 694ms/step - loss: 1.2099 - acc: 0.3226 - val_loss: 1.1055 - val_acc: 0.5385\n",
            "Epoch 2/40\n",
            "3/3 [==============================] - 1s 283ms/step - loss: 0.9959 - acc: 0.5806\n",
            "Epoch 3/40\n",
            "3/3 [==============================] - 1s 282ms/step - loss: 0.8173 - acc: 0.6882\n",
            "Epoch 4/40\n",
            "3/3 [==============================] - 1s 319ms/step - loss: 0.6768 - acc: 0.7527\n",
            "Epoch 5/40\n",
            "3/3 [==============================] - 1s 321ms/step - loss: 0.5954 - acc: 0.7527\n",
            "Epoch 6/40\n",
            "3/3 [==============================] - 1s 289ms/step - loss: 0.5220 - acc: 0.7957\n",
            "Epoch 7/40\n",
            "3/3 [==============================] - 1s 287ms/step - loss: 0.4792 - acc: 0.8280\n",
            "Epoch 8/40\n",
            "3/3 [==============================] - 1s 280ms/step - loss: 0.4545 - acc: 0.8065\n",
            "Epoch 9/40\n",
            "3/3 [==============================] - 1s 285ms/step - loss: 0.4218 - acc: 0.7849\n",
            "Epoch 10/40\n",
            "3/3 [==============================] - 1s 278ms/step - loss: 0.3987 - acc: 0.8172\n",
            "Epoch 11/40\n",
            "3/3 [==============================] - 1s 279ms/step - loss: 0.3763 - acc: 0.8710\n",
            "Epoch 12/40\n",
            "3/3 [==============================] - 1s 286ms/step - loss: 0.3535 - acc: 0.8710\n",
            "Epoch 13/40\n",
            "3/3 [==============================] - 1s 286ms/step - loss: 0.3339 - acc: 0.8495\n",
            "Epoch 14/40\n",
            "3/3 [==============================] - 1s 280ms/step - loss: 0.3190 - acc: 0.8602\n",
            "Epoch 15/40\n",
            "3/3 [==============================] - 1s 282ms/step - loss: 0.3049 - acc: 0.8817\n",
            "Epoch 16/40\n",
            "3/3 [==============================] - 1s 285ms/step - loss: 0.2891 - acc: 0.9140\n",
            "Epoch 17/40\n",
            "3/3 [==============================] - 1s 283ms/step - loss: 0.2804 - acc: 0.9140\n",
            "Epoch 18/40\n",
            "3/3 [==============================] - 1s 276ms/step - loss: 0.2650 - acc: 0.9355\n",
            "Epoch 19/40\n",
            "3/3 [==============================] - 1s 284ms/step - loss: 0.2539 - acc: 0.9355\n",
            "Epoch 20/40\n",
            "3/3 [==============================] - 1s 274ms/step - loss: 0.2452 - acc: 0.9462\n",
            "Epoch 21/40\n",
            "3/3 [==============================] - 1s 284ms/step - loss: 0.2353 - acc: 0.9462\n",
            "Epoch 22/40\n",
            "3/3 [==============================] - 1s 294ms/step - loss: 0.2285 - acc: 0.9462\n",
            "Epoch 23/40\n",
            "3/3 [==============================] - 1s 316ms/step - loss: 0.2188 - acc: 0.9462\n",
            "Epoch 24/40\n",
            "3/3 [==============================] - 1s 295ms/step - loss: 0.2108 - acc: 0.9462\n",
            "Epoch 25/40\n",
            "3/3 [==============================] - 1s 289ms/step - loss: 0.2048 - acc: 0.9570\n",
            "Epoch 26/40\n",
            "3/3 [==============================] - 1s 307ms/step - loss: 0.1976 - acc: 0.9677\n",
            "Epoch 27/40\n",
            "3/3 [==============================] - 1s 278ms/step - loss: 0.1926 - acc: 0.9785\n",
            "Epoch 28/40\n",
            "3/3 [==============================] - 1s 279ms/step - loss: 0.1871 - acc: 0.9892\n",
            "Epoch 29/40\n",
            "3/3 [==============================] - 1s 274ms/step - loss: 0.1807 - acc: 0.9785\n",
            "Epoch 30/40\n",
            "3/3 [==============================] - 1s 305ms/step - loss: 0.1810 - acc: 0.9785\n",
            "Epoch 31/40\n",
            "3/3 [==============================] - 1s 304ms/step - loss: 0.1707 - acc: 0.9785\n",
            "Epoch 32/40\n",
            "3/3 [==============================] - 1s 275ms/step - loss: 0.1654 - acc: 0.9785\n",
            "Epoch 33/40\n",
            "3/3 [==============================] - 1s 301ms/step - loss: 0.1642 - acc: 0.9892\n",
            "Epoch 34/40\n",
            "3/3 [==============================] - 1s 317ms/step - loss: 0.1572 - acc: 0.9892\n",
            "Epoch 35/40\n",
            "3/3 [==============================] - 1s 320ms/step - loss: 0.1524 - acc: 0.9892\n",
            "Epoch 36/40\n",
            "3/3 [==============================] - 1s 340ms/step - loss: 0.1510 - acc: 0.9892\n",
            "Epoch 37/40\n",
            "3/3 [==============================] - 1s 345ms/step - loss: 0.1459 - acc: 0.9785\n",
            "Epoch 38/40\n",
            "3/3 [==============================] - 1s 295ms/step - loss: 0.1409 - acc: 0.9892\n",
            "Epoch 39/40\n",
            "3/3 [==============================] - 1s 296ms/step - loss: 0.1374 - acc: 0.9892\n",
            "Epoch 40/40\n",
            "3/3 [==============================] - 1s 290ms/step - loss: 0.1350 - acc: 0.9892\n"
          ]
        },
        {
          "data": {
            "text/plain": [
              "<keras.callbacks.History at 0x2a6dbe040>"
            ]
          },
          "execution_count": 19,
          "metadata": {},
          "output_type": "execute_result"
        }
      ],
      "source": [
        "model.fit(train_data, epochs=40, steps_per_epoch=3, validation_data=valid_data, validation_steps=2)\n"
      ]
    },
    {
      "cell_type": "markdown",
      "metadata": {
        "colab_type": "text",
        "id": "2YzWBMWmSrn4"
      },
      "source": [
        "检验"
      ]
    },
    {
      "cell_type": "code",
      "execution_count": 20,
      "metadata": {
        "colab": {
          "base_uri": "https://localhost:8080/",
          "height": 34
        },
        "colab_type": "code",
        "id": "eb7x_ZwhSRPs",
        "outputId": "6f709b5d-3e92-4d7b-ae38-833ee252102f"
      },
      "outputs": [
        {
          "data": {
            "text/plain": [
              "array(['Input', 'Button', 'Select'], dtype='<U6')"
            ]
          },
          "execution_count": 20,
          "metadata": {},
          "output_type": "execute_result"
        }
      ],
      "source": [
        "class_names = sorted(train_data.class_indices.items(), key=lambda pair:pair[1])\n",
        "class_names = np.array([key.title() for key, value in class_names])\n",
        "class_names"
      ]
    },
    {
      "cell_type": "code",
      "execution_count": 21,
      "metadata": {
        "colab": {},
        "colab_type": "code",
        "id": "vAq8JTifSjbE"
      },
      "outputs": [
        {
          "name": "stderr",
          "output_type": "stream",
          "text": [
            "2022-04-04 01:09:15.737753: I tensorflow/core/grappler/optimizers/custom_graph_optimizer_registry.cc:113] Plugin optimizer for device_type GPU is enabled.\n"
          ]
        }
      ],
      "source": [
        "predicted_batch = model.predict(image_batch)\n",
        "predicted_id = np.argmax(predicted_batch, axis=-1)\n",
        "predicted_label_batch = class_names[predicted_id]"
      ]
    },
    {
      "cell_type": "code",
      "execution_count": 22,
      "metadata": {
        "colab": {},
        "colab_type": "code",
        "id": "qzJ1H79AS3fa"
      },
      "outputs": [],
      "source": [
        "label_id = np.argmax(label_batch, axis=-1)"
      ]
    },
    {
      "cell_type": "code",
      "execution_count": 23,
      "metadata": {
        "colab": {
          "base_uri": "https://localhost:8080/",
          "height": 954
        },
        "colab_type": "code",
        "id": "k5u0AmutS5kq",
        "outputId": "0fa48bb1-9281-4366-f2dc-e6e27339e243"
      },
      "outputs": [
        {
          "data": {
            "image/png": "[encoded data removed]",
            "text/plain": [
              "<Figure size 1080x1080 with 30 Axes>"
            ]
          },
          "metadata": {
            "needs_background": "light"
          },
          "output_type": "display_data"
        }
      ],
      "source": [
        "plt.figure(figsize=(15,15))\n",
        "plt.subplots_adjust(hspace=0.5)\n",
        "for n in range(30):\n",
        "  plt.subplot(6,5,n+1)\n",
        "  plt.imshow(image_batch[n])\n",
        "  color = \"green\" if predicted_id[n] == label_id[n] else \"red\"\n",
        "  plt.title(predicted_label_batch[n].title(), color=color)\n",
        "  plt.axis('off')\n",
        "_ = plt.suptitle(\"Model predictions (green: correct, red: incorrect)\")"
      ]
    },
    {
      "cell_type": "code",
      "execution_count": 24,
      "metadata": {
        "colab": {
          "base_uri": "https://localhost:8080/",
          "height": 68
        },
        "colab_type": "code",
        "id": "vIr6X-f8Tb66",
        "outputId": "8623537e-5f97-4af5-ee62-18a73877e551"
      },
      "outputs": [
        {
          "name": "stderr",
          "output_type": "stream",
          "text": [
            "2022-04-04 01:09:17.398628: W tensorflow/python/util/util.cc:368] Sets are not currently considered sequences, but this may change in the future, so consider avoiding using them.\n"
          ]
        },
        {
          "name": "stdout",
          "output_type": "stream",
          "text": [
            "INFO:tensorflow:Assets written to: ./content/model/1649005756/assets\n"
          ]
        },
        {
          "name": "stderr",
          "output_type": "stream",
          "text": [
            "INFO:tensorflow:Assets written to: ./content/model/1649005756/assets\n"
          ]
        },
        {
          "data": {
            "text/plain": [
              "'./content/model/1649005756'"
            ]
          },
          "execution_count": 24,
          "metadata": {},
          "output_type": "execute_result"
        }
      ],
      "source": [
        "# 导出模型\n",
        "\n",
        "import time\n",
        "t = time.time()\n",
        "\n",
        "export_path = \"./content/model/{}\".format(int(t))\n",
        "model.save(export_path, save_format='tf')\n",
        "\n",
        "export_path"
      ]
    },
    {
      "cell_type": "markdown",
      "metadata": {
        "colab_type": "text",
        "id": "AhQ9liIUsPsi"
      },
      "source": [
        "Now confirm that we can reload it, and it still gives the same results:"
      ]
    },
    {
      "cell_type": "code",
      "execution_count": 25,
      "metadata": {
        "colab": {},
        "colab_type": "code",
        "id": "7nI5fvkAQvbS"
      },
      "outputs": [],
      "source": [
        "reloaded = tf.keras.models.load_model(export_path)"
      ]
    },
    {
      "cell_type": "code",
      "execution_count": 26,
      "metadata": {
        "colab": {},
        "colab_type": "code",
        "id": "jor83-LqI8xW"
      },
      "outputs": [
        {
          "name": "stderr",
          "output_type": "stream",
          "text": [
            "2022-04-04 01:09:19.969310: I tensorflow/core/grappler/optimizers/custom_graph_optimizer_registry.cc:113] Plugin optimizer for device_type GPU is enabled.\n"
          ]
        },
        {
          "data": {
            "text/plain": [
              "array([[ 1.4519646 , -4.243505  ,  1.0042987 ],\n",
              "       [ 1.287882  , -0.76131326,  0.47650546],\n",
              "       [-3.8572352 ,  3.6503758 , -2.0855227 ],\n",
              "       [-1.5341231 ,  3.439269  , -0.37964004],\n",
              "       [ 1.9858584 , -2.6937308 , -0.09496903],\n",
              "       [ 2.5357556 , -2.4340029 , -0.5000995 ],\n",
              "       [ 3.1313286 , -4.148616  , -0.63065004],\n",
              "       [-0.01710244, -5.2063    ,  2.8114474 ],\n",
              "       [-2.995843  ,  3.0114822 , -1.551261  ],\n",
              "       [ 1.17875   , -1.884441  , -0.70309407],\n",
              "       [-2.0653465 ,  2.913267  , -1.4209868 ],\n",
              "       [-1.884052  ,  3.09413   , -1.3248209 ],\n",
              "       [-2.7745986 ,  2.151524  , -0.9033544 ],\n",
              "       [-0.9506824 ,  2.20182   , -0.2936427 ],\n",
              "       [ 1.503636  , -1.3002716 ,  0.04413812],\n",
              "       [ 0.33554026, -3.1822486 ,  1.6388354 ],\n",
              "       [-1.8158072 , -4.3604307 ,  4.0618105 ],\n",
              "       [ 0.1144744 ,  1.3959157 , -1.0633527 ],\n",
              "       [-0.06368233, -3.3978863 ,  2.365453  ],\n",
              "       [ 1.5271441 , -2.115446  , -0.26340193],\n",
              "       [-1.350133  ,  3.1470637 , -0.39400095],\n",
              "       [-2.8577347 ,  4.721958  , -2.624377  ],\n",
              "       [-2.1235757 ,  2.0689158 ,  0.25933093],\n",
              "       [-4.0413623 ,  2.8837705 , -1.1203806 ],\n",
              "       [ 0.42491275, -4.296564  ,  2.2463005 ],\n",
              "       [-1.307335  ,  1.8189641 , -0.47317415],\n",
              "       [-3.1467547 ,  1.5317252 ,  0.45543033],\n",
              "       [ 2.1838417 , -2.266432  ,  0.10882878],\n",
              "       [-1.0427425 , -1.9663566 ,  1.9517919 ],\n",
              "       [-0.3661911 , -1.6576896 ,  0.8458323 ],\n",
              "       [ 1.8346184 , -3.085494  , -0.21451925],\n",
              "       [-2.951113  ,  1.6205028 , -0.46485722]], dtype=float32)"
            ]
          },
          "execution_count": 26,
          "metadata": {},
          "output_type": "execute_result"
        }
      ],
      "source": [
        "reloaded_result_batch = reloaded.predict(image_batch)\n",
        "reloaded_result_batch"
      ]
    }
  ],
  "metadata": {
    "colab": {
      "authorship_tag": "ABX9TyMF7hCLSFvsPTYL2QNMm/6q",
      "collapsed_sections": [],
      "include_colab_link": true,
      "mount_file_id": "1vUi--v_eJWZZxDQZWys4_FrYAcPtDYo_",
      "name": "html元素分类-迁移学习",
      "provenance": []
    },
    "kernelspec": {
      "display_name": "Python 3",
      "name": "python3"
    },
    "language_info": {
      "codemirror_mode": {
        "name": "ipython",
        "version": 3
      },
      "file_extension": ".py",
      "mimetype": "text/x-python",
      "name": "python",
      "nbconvert_exporter": "python",
      "pygments_lexer": "ipython3",
      "version": "3.9.10"
    }
  },
  "nbformat": 4,
  "nbformat_minor": 0
}
